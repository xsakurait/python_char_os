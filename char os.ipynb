{
 "cells": [
  {
   "cell_type": "code",
   "execution_count": 2,
   "id": "d1ff19dc",
   "metadata": {},
   "outputs": [
    {
     "data": {
      "text/plain": [
       "'ab'"
      ]
     },
     "execution_count": 2,
     "metadata": {},
     "output_type": "execute_result"
    }
   ],
   "source": [
    "name1='a'\n",
    "name2='b'\n",
    "name1+name2\n"
   ]
  },
  {
   "cell_type": "code",
   "execution_count": 9,
   "id": "2ffaba60",
   "metadata": {},
   "outputs": [
    {
     "data": {
      "text/plain": [
       "'a<b'"
      ]
     },
     "execution_count": 9,
     "metadata": {},
     "output_type": "execute_result"
    }
   ],
   "source": [
    "names=['a','b']\n",
    "ab='<'.join(names)#数字型の連結はできない\n",
    "ab"
   ]
  },
  {
   "cell_type": "code",
   "execution_count": 11,
   "id": "1fca336e",
   "metadata": {},
   "outputs": [
    {
     "data": {
      "text/plain": [
       "'a>c'"
      ]
     },
     "execution_count": 11,
     "metadata": {},
     "output_type": "execute_result"
    }
   ],
   "source": [
    "ab.replace('<','>').replace('b','c')"
   ]
  },
  {
   "cell_type": "code",
   "execution_count": 13,
   "id": "8d1714db",
   "metadata": {},
   "outputs": [
    {
     "data": {
      "text/plain": [
       "'C:\\\\Users\\\\Apple\\\\Desktop\\\\jupyter\\\\youtube'"
      ]
     },
     "execution_count": 13,
     "metadata": {},
     "output_type": "execute_result"
    }
   ],
   "source": [
    "import os\n",
    "os.getcwd()#カレントディレクトリ"
   ]
  },
  {
   "cell_type": "code",
   "execution_count": 14,
   "id": "95f74039",
   "metadata": {},
   "outputs": [
    {
     "name": "stderr",
     "output_type": "stream",
     "text": [
      "'pwd' は、内部コマンドまたは外部コマンド、\n",
      "操作可能なプログラムまたはバッチ ファイルとして認識されていません。\n"
     ]
    }
   ],
   "source": [
    "# !pwd#goocoraboで!つけるとLinuxコマンド使える\n"
   ]
  },
  {
   "cell_type": "code",
   "execution_count": null,
   "id": "bc9a6151",
   "metadata": {},
   "outputs": [],
   "source": [
    "# ファイル削除\n",
    "# os.remove(URL)\n",
    "#ファイル名書き換え\n",
    "# os.rename(元,書き換え後)\n",
    "#ディレクトリ作成\n",
    "# os.mkdir('ファイル名')\n",
    "#ディレクトリ削除\n",
    "#os.rmdir('ファイル名')\n",
    "#ディレクトリ内の確認#リストで取得\n",
    "#os.listdir('URL')\n"
   ]
  }
 ],
 "metadata": {
  "kernelspec": {
   "display_name": "Python 3",
   "language": "python",
   "name": "python3"
  },
  "language_info": {
   "codemirror_mode": {
    "name": "ipython",
    "version": 3
   },
   "file_extension": ".py",
   "mimetype": "text/x-python",
   "name": "python",
   "nbconvert_exporter": "python",
   "pygments_lexer": "ipython3",
   "version": "3.8.8"
  },
  "varInspector": {
   "cols": {
    "lenName": 16,
    "lenType": 16,
    "lenVar": 40
   },
   "kernels_config": {
    "python": {
     "delete_cmd_postfix": "",
     "delete_cmd_prefix": "del ",
     "library": "var_list.py",
     "varRefreshCmd": "print(var_dic_list())"
    },
    "r": {
     "delete_cmd_postfix": ") ",
     "delete_cmd_prefix": "rm(",
     "library": "var_list.r",
     "varRefreshCmd": "cat(var_dic_list()) "
    }
   },
   "types_to_exclude": [
    "module",
    "function",
    "builtin_function_or_method",
    "instance",
    "_Feature"
   ],
   "window_display": false
  }
 },
 "nbformat": 4,
 "nbformat_minor": 5
}
